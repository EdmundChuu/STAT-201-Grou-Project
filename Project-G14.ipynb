{
 "cells": [
  {
   "cell_type": "markdown",
   "id": "74cf7b4d-a670-43ad-bd3a-f2a1ca7af813",
   "metadata": {
    "tags": []
   },
   "source": [
    "<font size=\"6\"> GROUP 14 - Project Proposal </font>"
   ]
  },
  {
   "cell_type": "markdown",
   "id": "b58fc9eb-d303-4dc5-ad41-81a65261c056",
   "metadata": {},
   "source": [
    "By Eric Zhang, Primo Huang, Edmund Chu, Prajna Nayak"
   ]
  },
  {
   "cell_type": "markdown",
   "id": "2bab50de-e1c7-4614-86ca-8b2397eac0f6",
   "metadata": {},
   "source": [
    "<font size=\"4\"> INTRODUCTION </font>"
   ]
  },
  {
   "cell_type": "markdown",
   "id": "a29de0bb-9945-42dd-84de-066bd4fe11b3",
   "metadata": {
    "jupyter": {
     "source_hidden": true
    },
    "tags": []
   },
   "source": [
    "There are a number of different factors that contribute to one's income. Our multivariable dataset provides information on each individual that we can use to predict the income of an individual. We want to predict if the income of a US citizen is less than or equal 50k, or above 50k.\n",
    "\n",
    "We will be using the Census Income data set found on https://archive.ics.uci.edu/dataset/20/census+income. This \n",
    "data contains 32560 people's information and whether or not their income is under 50,000 or above.\n",
    "\n",
    "We plan to use variables such as:\n",
    "1) Age\n",
    "2) work_class\n",
    "3) education\n",
    "4) race\n",
    "5) sex\n",
    "\n",
    "and possibly more to see if it is a factor contributing to one's income."
   ]
  },
  {
   "cell_type": "markdown",
   "id": "6dc77c44-5439-4f03-90b6-62b9d44cd881",
   "metadata": {},
   "source": [
    "<font size = \"4\"> PRELIMINARY RESULTS</font>"
   ]
  },
  {
   "cell_type": "markdown",
   "id": "bec98946-9385-4ffe-9bf0-dff1474b159c",
   "metadata": {},
   "source": [
    "First we load all the necessary libraries for us to analyze our data"
   ]
  },
  {
   "cell_type": "code",
   "execution_count": 10,
   "id": "91420aed-a9ed-4875-ab6e-dd62612f34d4",
   "metadata": {
    "tags": []
   },
   "outputs": [],
   "source": [
    "library(tidyverse)\n",
    "library(repr)\n",
    "library(tidymodels)\n",
    "library(ggplot2)"
   ]
  },
  {
   "cell_type": "code",
   "execution_count": 11,
   "id": "27a258ed-7a95-424b-b540-c069f5eddf7a",
   "metadata": {
    "tags": []
   },
   "outputs": [
    {
     "name": "stderr",
     "output_type": "stream",
     "text": [
      "\u001b[1mRows: \u001b[22m\u001b[34m32561\u001b[39m \u001b[1mColumns: \u001b[22m\u001b[34m15\u001b[39m\n",
      "\u001b[36m──\u001b[39m \u001b[1mColumn specification\u001b[22m \u001b[36m────────────────────────────────────────────────────────\u001b[39m\n",
      "\u001b[1mDelimiter:\u001b[22m \",\"\n",
      "\u001b[31mchr\u001b[39m (9): work_class, education, marital_status, occupation, relationship, ra...\n",
      "\u001b[32mdbl\u001b[39m (6): age, fnlwgt, education_num, capital_gain, capital_loss, hours_per_week\n",
      "\n",
      "\u001b[36mℹ\u001b[39m Use `spec()` to retrieve the full column specification for this data.\n",
      "\u001b[36mℹ\u001b[39m Specify the column types or set `show_col_types = FALSE` to quiet this message.\n"
     ]
    },
    {
     "data": {
      "text/html": [
       "<table class=\"dataframe\">\n",
       "<caption>A tibble: 6 × 15</caption>\n",
       "<thead>\n",
       "\t<tr><th scope=col>age</th><th scope=col>work_class</th><th scope=col>fnlwgt</th><th scope=col>education</th><th scope=col>education_num</th><th scope=col>marital_status</th><th scope=col>occupation</th><th scope=col>relationship</th><th scope=col>race</th><th scope=col>sex</th><th scope=col>capital_gain</th><th scope=col>capital_loss</th><th scope=col>hours_per_week</th><th scope=col>native_country</th><th scope=col>income_status</th></tr>\n",
       "\t<tr><th scope=col>&lt;dbl&gt;</th><th scope=col>&lt;chr&gt;</th><th scope=col>&lt;dbl&gt;</th><th scope=col>&lt;chr&gt;</th><th scope=col>&lt;dbl&gt;</th><th scope=col>&lt;chr&gt;</th><th scope=col>&lt;chr&gt;</th><th scope=col>&lt;chr&gt;</th><th scope=col>&lt;chr&gt;</th><th scope=col>&lt;chr&gt;</th><th scope=col>&lt;dbl&gt;</th><th scope=col>&lt;dbl&gt;</th><th scope=col>&lt;dbl&gt;</th><th scope=col>&lt;chr&gt;</th><th scope=col>&lt;chr&gt;</th></tr>\n",
       "</thead>\n",
       "<tbody>\n",
       "\t<tr><td>39</td><td><span style=white-space:pre-wrap>State-gov       </span></td><td> 77516</td><td>Bachelors</td><td>13</td><td><span style=white-space:pre-wrap>Never-married     </span></td><td><span style=white-space:pre-wrap>Adm-clerical     </span></td><td>Not-in-family</td><td>White</td><td><span style=white-space:pre-wrap>Male  </span></td><td>2174</td><td>0</td><td>40</td><td>United-States</td><td>&lt;=50K</td></tr>\n",
       "\t<tr><td>50</td><td>Self-emp-not-inc</td><td> 83311</td><td>Bachelors</td><td>13</td><td>Married-civ-spouse</td><td><span style=white-space:pre-wrap>Exec-managerial  </span></td><td><span style=white-space:pre-wrap>Husband      </span></td><td>White</td><td><span style=white-space:pre-wrap>Male  </span></td><td><span style=white-space:pre-wrap>   0</span></td><td>0</td><td>13</td><td>United-States</td><td>&lt;=50K</td></tr>\n",
       "\t<tr><td>38</td><td><span style=white-space:pre-wrap>Private         </span></td><td>215646</td><td><span style=white-space:pre-wrap>HS-grad  </span></td><td> 9</td><td><span style=white-space:pre-wrap>Divorced          </span></td><td>Handlers-cleaners</td><td>Not-in-family</td><td>White</td><td><span style=white-space:pre-wrap>Male  </span></td><td><span style=white-space:pre-wrap>   0</span></td><td>0</td><td>40</td><td>United-States</td><td>&lt;=50K</td></tr>\n",
       "\t<tr><td>53</td><td><span style=white-space:pre-wrap>Private         </span></td><td>234721</td><td><span style=white-space:pre-wrap>11th     </span></td><td> 7</td><td>Married-civ-spouse</td><td>Handlers-cleaners</td><td><span style=white-space:pre-wrap>Husband      </span></td><td>Black</td><td><span style=white-space:pre-wrap>Male  </span></td><td><span style=white-space:pre-wrap>   0</span></td><td>0</td><td>40</td><td>United-States</td><td>&lt;=50K</td></tr>\n",
       "\t<tr><td>28</td><td><span style=white-space:pre-wrap>Private         </span></td><td>338409</td><td>Bachelors</td><td>13</td><td>Married-civ-spouse</td><td><span style=white-space:pre-wrap>Prof-specialty   </span></td><td><span style=white-space:pre-wrap>Wife         </span></td><td>Black</td><td>Female</td><td><span style=white-space:pre-wrap>   0</span></td><td>0</td><td>40</td><td><span style=white-space:pre-wrap>Cuba         </span></td><td>&lt;=50K</td></tr>\n",
       "\t<tr><td>37</td><td><span style=white-space:pre-wrap>Private         </span></td><td>284582</td><td><span style=white-space:pre-wrap>Masters  </span></td><td>14</td><td>Married-civ-spouse</td><td><span style=white-space:pre-wrap>Exec-managerial  </span></td><td><span style=white-space:pre-wrap>Wife         </span></td><td>White</td><td>Female</td><td><span style=white-space:pre-wrap>   0</span></td><td>0</td><td>40</td><td>United-States</td><td>&lt;=50K</td></tr>\n",
       "</tbody>\n",
       "</table>\n"
      ],
      "text/latex": [
       "A tibble: 6 × 15\n",
       "\\begin{tabular}{lllllllllllllll}\n",
       " age & work\\_class & fnlwgt & education & education\\_num & marital\\_status & occupation & relationship & race & sex & capital\\_gain & capital\\_loss & hours\\_per\\_week & native\\_country & income\\_status\\\\\n",
       " <dbl> & <chr> & <dbl> & <chr> & <dbl> & <chr> & <chr> & <chr> & <chr> & <chr> & <dbl> & <dbl> & <dbl> & <chr> & <chr>\\\\\n",
       "\\hline\n",
       "\t 39 & State-gov        &  77516 & Bachelors & 13 & Never-married      & Adm-clerical      & Not-in-family & White & Male   & 2174 & 0 & 40 & United-States & <=50K\\\\\n",
       "\t 50 & Self-emp-not-inc &  83311 & Bachelors & 13 & Married-civ-spouse & Exec-managerial   & Husband       & White & Male   &    0 & 0 & 13 & United-States & <=50K\\\\\n",
       "\t 38 & Private          & 215646 & HS-grad   &  9 & Divorced           & Handlers-cleaners & Not-in-family & White & Male   &    0 & 0 & 40 & United-States & <=50K\\\\\n",
       "\t 53 & Private          & 234721 & 11th      &  7 & Married-civ-spouse & Handlers-cleaners & Husband       & Black & Male   &    0 & 0 & 40 & United-States & <=50K\\\\\n",
       "\t 28 & Private          & 338409 & Bachelors & 13 & Married-civ-spouse & Prof-specialty    & Wife          & Black & Female &    0 & 0 & 40 & Cuba          & <=50K\\\\\n",
       "\t 37 & Private          & 284582 & Masters   & 14 & Married-civ-spouse & Exec-managerial   & Wife          & White & Female &    0 & 0 & 40 & United-States & <=50K\\\\\n",
       "\\end{tabular}\n"
      ],
      "text/markdown": [
       "\n",
       "A tibble: 6 × 15\n",
       "\n",
       "| age &lt;dbl&gt; | work_class &lt;chr&gt; | fnlwgt &lt;dbl&gt; | education &lt;chr&gt; | education_num &lt;dbl&gt; | marital_status &lt;chr&gt; | occupation &lt;chr&gt; | relationship &lt;chr&gt; | race &lt;chr&gt; | sex &lt;chr&gt; | capital_gain &lt;dbl&gt; | capital_loss &lt;dbl&gt; | hours_per_week &lt;dbl&gt; | native_country &lt;chr&gt; | income_status &lt;chr&gt; |\n",
       "|---|---|---|---|---|---|---|---|---|---|---|---|---|---|---|\n",
       "| 39 | State-gov        |  77516 | Bachelors | 13 | Never-married      | Adm-clerical      | Not-in-family | White | Male   | 2174 | 0 | 40 | United-States | &lt;=50K |\n",
       "| 50 | Self-emp-not-inc |  83311 | Bachelors | 13 | Married-civ-spouse | Exec-managerial   | Husband       | White | Male   |    0 | 0 | 13 | United-States | &lt;=50K |\n",
       "| 38 | Private          | 215646 | HS-grad   |  9 | Divorced           | Handlers-cleaners | Not-in-family | White | Male   |    0 | 0 | 40 | United-States | &lt;=50K |\n",
       "| 53 | Private          | 234721 | 11th      |  7 | Married-civ-spouse | Handlers-cleaners | Husband       | Black | Male   |    0 | 0 | 40 | United-States | &lt;=50K |\n",
       "| 28 | Private          | 338409 | Bachelors | 13 | Married-civ-spouse | Prof-specialty    | Wife          | Black | Female |    0 | 0 | 40 | Cuba          | &lt;=50K |\n",
       "| 37 | Private          | 284582 | Masters   | 14 | Married-civ-spouse | Exec-managerial   | Wife          | White | Female |    0 | 0 | 40 | United-States | &lt;=50K |\n",
       "\n"
      ],
      "text/plain": [
       "  age work_class       fnlwgt education education_num marital_status    \n",
       "1 39  State-gov         77516 Bachelors 13            Never-married     \n",
       "2 50  Self-emp-not-inc  83311 Bachelors 13            Married-civ-spouse\n",
       "3 38  Private          215646 HS-grad    9            Divorced          \n",
       "4 53  Private          234721 11th       7            Married-civ-spouse\n",
       "5 28  Private          338409 Bachelors 13            Married-civ-spouse\n",
       "6 37  Private          284582 Masters   14            Married-civ-spouse\n",
       "  occupation        relationship  race  sex    capital_gain capital_loss\n",
       "1 Adm-clerical      Not-in-family White Male   2174         0           \n",
       "2 Exec-managerial   Husband       White Male      0         0           \n",
       "3 Handlers-cleaners Not-in-family White Male      0         0           \n",
       "4 Handlers-cleaners Husband       Black Male      0         0           \n",
       "5 Prof-specialty    Wife          Black Female    0         0           \n",
       "6 Exec-managerial   Wife          White Female    0         0           \n",
       "  hours_per_week native_country income_status\n",
       "1 40             United-States  <=50K        \n",
       "2 13             United-States  <=50K        \n",
       "3 40             United-States  <=50K        \n",
       "4 40             United-States  <=50K        \n",
       "5 40             Cuba           <=50K        \n",
       "6 40             United-States  <=50K        "
      ]
     },
     "metadata": {},
     "output_type": "display_data"
    }
   ],
   "source": [
    "income_col_names <- c(\"age\", \"work_class\", \"fnlwgt\", \"education\", \"education_num\", \"marital_status\", \"occupation\", \"relationship\", \"race\", \"sex\", \"capital_gain\", \"capital_loss\", \"hours_per_week\", \"native_country\", \"income_status\")\n",
    "income_main <- read_csv(\"income.csv\",col_names=income_col_names)\n",
    "head(income_main)"
   ]
  },
  {
   "cell_type": "code",
   "execution_count": 12,
   "id": "b7d69d72-f44e-4726-bbe8-0409da670c57",
   "metadata": {
    "tags": []
   },
   "outputs": [
    {
     "data": {
      "text/html": [
       "<table class=\"dataframe\">\n",
       "<caption>A tibble: 6 × 12</caption>\n",
       "<thead>\n",
       "\t<tr><th scope=col>age</th><th scope=col>work_class</th><th scope=col>education</th><th scope=col>education_num</th><th scope=col>marital_status</th><th scope=col>occupation</th><th scope=col>relationship</th><th scope=col>race</th><th scope=col>sex</th><th scope=col>hours_per_week</th><th scope=col>native_country</th><th scope=col>income_status</th></tr>\n",
       "\t<tr><th scope=col>&lt;dbl&gt;</th><th scope=col>&lt;chr&gt;</th><th scope=col>&lt;chr&gt;</th><th scope=col>&lt;dbl&gt;</th><th scope=col>&lt;chr&gt;</th><th scope=col>&lt;chr&gt;</th><th scope=col>&lt;chr&gt;</th><th scope=col>&lt;chr&gt;</th><th scope=col>&lt;chr&gt;</th><th scope=col>&lt;dbl&gt;</th><th scope=col>&lt;chr&gt;</th><th scope=col>&lt;chr&gt;</th></tr>\n",
       "</thead>\n",
       "<tbody>\n",
       "\t<tr><td>39</td><td><span style=white-space:pre-wrap>State-gov       </span></td><td>Bachelors</td><td>13</td><td><span style=white-space:pre-wrap>Never-married     </span></td><td><span style=white-space:pre-wrap>Adm-clerical     </span></td><td>Not-in-family</td><td>White</td><td><span style=white-space:pre-wrap>Male  </span></td><td>40</td><td>United-States</td><td>&lt;=50K</td></tr>\n",
       "\t<tr><td>50</td><td>Self-emp-not-inc</td><td>Bachelors</td><td>13</td><td>Married-civ-spouse</td><td><span style=white-space:pre-wrap>Exec-managerial  </span></td><td><span style=white-space:pre-wrap>Husband      </span></td><td>White</td><td><span style=white-space:pre-wrap>Male  </span></td><td>13</td><td>United-States</td><td>&lt;=50K</td></tr>\n",
       "\t<tr><td>38</td><td><span style=white-space:pre-wrap>Private         </span></td><td><span style=white-space:pre-wrap>HS-grad  </span></td><td> 9</td><td><span style=white-space:pre-wrap>Divorced          </span></td><td>Handlers-cleaners</td><td>Not-in-family</td><td>White</td><td><span style=white-space:pre-wrap>Male  </span></td><td>40</td><td>United-States</td><td>&lt;=50K</td></tr>\n",
       "\t<tr><td>53</td><td><span style=white-space:pre-wrap>Private         </span></td><td><span style=white-space:pre-wrap>11th     </span></td><td> 7</td><td>Married-civ-spouse</td><td>Handlers-cleaners</td><td><span style=white-space:pre-wrap>Husband      </span></td><td>Black</td><td><span style=white-space:pre-wrap>Male  </span></td><td>40</td><td>United-States</td><td>&lt;=50K</td></tr>\n",
       "\t<tr><td>28</td><td><span style=white-space:pre-wrap>Private         </span></td><td>Bachelors</td><td>13</td><td>Married-civ-spouse</td><td><span style=white-space:pre-wrap>Prof-specialty   </span></td><td><span style=white-space:pre-wrap>Wife         </span></td><td>Black</td><td>Female</td><td>40</td><td><span style=white-space:pre-wrap>Cuba         </span></td><td>&lt;=50K</td></tr>\n",
       "\t<tr><td>37</td><td><span style=white-space:pre-wrap>Private         </span></td><td><span style=white-space:pre-wrap>Masters  </span></td><td>14</td><td>Married-civ-spouse</td><td><span style=white-space:pre-wrap>Exec-managerial  </span></td><td><span style=white-space:pre-wrap>Wife         </span></td><td>White</td><td>Female</td><td>40</td><td>United-States</td><td>&lt;=50K</td></tr>\n",
       "</tbody>\n",
       "</table>\n"
      ],
      "text/latex": [
       "A tibble: 6 × 12\n",
       "\\begin{tabular}{llllllllllll}\n",
       " age & work\\_class & education & education\\_num & marital\\_status & occupation & relationship & race & sex & hours\\_per\\_week & native\\_country & income\\_status\\\\\n",
       " <dbl> & <chr> & <chr> & <dbl> & <chr> & <chr> & <chr> & <chr> & <chr> & <dbl> & <chr> & <chr>\\\\\n",
       "\\hline\n",
       "\t 39 & State-gov        & Bachelors & 13 & Never-married      & Adm-clerical      & Not-in-family & White & Male   & 40 & United-States & <=50K\\\\\n",
       "\t 50 & Self-emp-not-inc & Bachelors & 13 & Married-civ-spouse & Exec-managerial   & Husband       & White & Male   & 13 & United-States & <=50K\\\\\n",
       "\t 38 & Private          & HS-grad   &  9 & Divorced           & Handlers-cleaners & Not-in-family & White & Male   & 40 & United-States & <=50K\\\\\n",
       "\t 53 & Private          & 11th      &  7 & Married-civ-spouse & Handlers-cleaners & Husband       & Black & Male   & 40 & United-States & <=50K\\\\\n",
       "\t 28 & Private          & Bachelors & 13 & Married-civ-spouse & Prof-specialty    & Wife          & Black & Female & 40 & Cuba          & <=50K\\\\\n",
       "\t 37 & Private          & Masters   & 14 & Married-civ-spouse & Exec-managerial   & Wife          & White & Female & 40 & United-States & <=50K\\\\\n",
       "\\end{tabular}\n"
      ],
      "text/markdown": [
       "\n",
       "A tibble: 6 × 12\n",
       "\n",
       "| age &lt;dbl&gt; | work_class &lt;chr&gt; | education &lt;chr&gt; | education_num &lt;dbl&gt; | marital_status &lt;chr&gt; | occupation &lt;chr&gt; | relationship &lt;chr&gt; | race &lt;chr&gt; | sex &lt;chr&gt; | hours_per_week &lt;dbl&gt; | native_country &lt;chr&gt; | income_status &lt;chr&gt; |\n",
       "|---|---|---|---|---|---|---|---|---|---|---|---|\n",
       "| 39 | State-gov        | Bachelors | 13 | Never-married      | Adm-clerical      | Not-in-family | White | Male   | 40 | United-States | &lt;=50K |\n",
       "| 50 | Self-emp-not-inc | Bachelors | 13 | Married-civ-spouse | Exec-managerial   | Husband       | White | Male   | 13 | United-States | &lt;=50K |\n",
       "| 38 | Private          | HS-grad   |  9 | Divorced           | Handlers-cleaners | Not-in-family | White | Male   | 40 | United-States | &lt;=50K |\n",
       "| 53 | Private          | 11th      |  7 | Married-civ-spouse | Handlers-cleaners | Husband       | Black | Male   | 40 | United-States | &lt;=50K |\n",
       "| 28 | Private          | Bachelors | 13 | Married-civ-spouse | Prof-specialty    | Wife          | Black | Female | 40 | Cuba          | &lt;=50K |\n",
       "| 37 | Private          | Masters   | 14 | Married-civ-spouse | Exec-managerial   | Wife          | White | Female | 40 | United-States | &lt;=50K |\n",
       "\n"
      ],
      "text/plain": [
       "  age work_class       education education_num marital_status    \n",
       "1 39  State-gov        Bachelors 13            Never-married     \n",
       "2 50  Self-emp-not-inc Bachelors 13            Married-civ-spouse\n",
       "3 38  Private          HS-grad    9            Divorced          \n",
       "4 53  Private          11th       7            Married-civ-spouse\n",
       "5 28  Private          Bachelors 13            Married-civ-spouse\n",
       "6 37  Private          Masters   14            Married-civ-spouse\n",
       "  occupation        relationship  race  sex    hours_per_week native_country\n",
       "1 Adm-clerical      Not-in-family White Male   40             United-States \n",
       "2 Exec-managerial   Husband       White Male   13             United-States \n",
       "3 Handlers-cleaners Not-in-family White Male   40             United-States \n",
       "4 Handlers-cleaners Husband       Black Male   40             United-States \n",
       "5 Prof-specialty    Wife          Black Female 40             Cuba          \n",
       "6 Exec-managerial   Wife          White Female 40             United-States \n",
       "  income_status\n",
       "1 <=50K        \n",
       "2 <=50K        \n",
       "3 <=50K        \n",
       "4 <=50K        \n",
       "5 <=50K        \n",
       "6 <=50K        "
      ]
     },
     "metadata": {},
     "output_type": "display_data"
    }
   ],
   "source": [
    "income_want <- c(\"age\", \"work_class\", \"education\", \"education_num\", \"marital_status\", \"occupation\", \"relationship\", \"race\", \"sex\", \"hours_per_week\", \"native_country\", \"income_status\")\n",
    "income = income_main[income_want]\n",
    "\n",
    "head(income)"
   ]
  },
  {
   "cell_type": "markdown",
   "id": "33286d96-df44-4ab1-86a9-a0ab6116980e",
   "metadata": {},
   "source": [
    "Graphs (edmund): "
   ]
  },
  {
   "cell_type": "markdown",
   "id": "3bb62b15-7613-4561-b910-b0f28888ce26",
   "metadata": {},
   "source": [
    "<font size = \"4\"> METHODS</font>"
   ]
  },
  {
   "cell_type": "code",
   "execution_count": null,
   "id": "b283e679-ab6d-4c8b-ba56-3725003a2b2d",
   "metadata": {},
   "outputs": [],
   "source": []
  },
  {
   "cell_type": "code",
   "execution_count": null,
   "id": "13308c7e-4bf2-4eea-8fbe-854756e8711c",
   "metadata": {},
   "outputs": [],
   "source": []
  }
 ],
 "metadata": {
  "kernelspec": {
   "display_name": "R",
   "language": "R",
   "name": "ir"
  },
  "language_info": {
   "codemirror_mode": "r",
   "file_extension": ".r",
   "mimetype": "text/x-r-source",
   "name": "R",
   "pygments_lexer": "r",
   "version": "4.2.3"
  }
 },
 "nbformat": 4,
 "nbformat_minor": 5
}
